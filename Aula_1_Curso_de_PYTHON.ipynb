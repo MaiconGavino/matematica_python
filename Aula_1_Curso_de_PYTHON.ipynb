{
  "nbformat": 4,
  "nbformat_minor": 0,
  "metadata": {
    "colab": {
      "name": "Aula 1 Curso de PYTHON.ipynb",
      "provenance": [],
      "collapsed_sections": [
        "b-xoI71SibXi",
        "zV232Hjjj5jG",
        "XLsaDscem28M"
      ],
      "authorship_tag": "ABX9TyOeMrBZ0zWBVEOX5pobfbZv",
      "include_colab_link": true
    },
    "kernelspec": {
      "name": "python3",
      "display_name": "Python 3"
    }
  },
  "cells": [
    {
      "cell_type": "markdown",
      "metadata": {
        "id": "view-in-github",
        "colab_type": "text"
      },
      "source": [
        "<a href=\"https://colab.research.google.com/github/MaiconGavino/matematica_python/blob/master/Aula_1_Curso_de_PYTHON.ipynb\" target=\"_parent\"><img src=\"https://colab.research.google.com/assets/colab-badge.svg\" alt=\"Open In Colab\"/></a>"
      ]
    },
    {
      "cell_type": "markdown",
      "metadata": {
        "id": "-A5qXWRJgzbd",
        "colab_type": "text"
      },
      "source": [
        "#Curso de PYTHON - Introdução a Linguagem de Programação\n",
        "\n",
        "Este notebook é referente a primeira aula do curso de python, o mesmo será disponibilizado no final da aula para futuras consultas.\n",
        "\n",
        "Neste notebook, será apresentado os seguintes tópicos:\n",
        "\n",
        "\n",
        "*   Hello, World!\n",
        "*   Variável;\n",
        "*   Operações aritméticas;\n",
        "*   Entrada de Dados;\n",
        "*   Exercícios de Fixação.\n",
        "\n",
        "#Vamos colocar a mão na massa!\n",
        "\n",
        "\n"
      ]
    },
    {
      "cell_type": "markdown",
      "metadata": {
        "id": "b-xoI71SibXi",
        "colab_type": "text"
      },
      "source": [
        "#Hello, World!\n",
        "\n",
        "No python temos a função \"print\" serve para imprimir os argumentos passados a ela no terminal"
      ]
    },
    {
      "cell_type": "code",
      "metadata": {
        "id": "IMjoK3iYxDa7",
        "colab_type": "code",
        "colab": {
          "base_uri": "https://localhost:8080/",
          "height": 35
        },
        "outputId": "4bb415e5-9f8b-457f-bcb4-00f315865adf"
      },
      "source": [
        "print(\"Hello, World!\")"
      ],
      "execution_count": null,
      "outputs": [
        {
          "output_type": "stream",
          "text": [
            "Hello, World!\n"
          ],
          "name": "stdout"
        }
      ]
    },
    {
      "cell_type": "code",
      "metadata": {
        "id": "QGvdulFoxWbY",
        "colab_type": "code",
        "colab": {
          "base_uri": "https://localhost:8080/",
          "height": 35
        },
        "outputId": "8d850564-2fe5-4ac4-ab59-a1c8582b8a5d"
      },
      "source": [
        "print(\"Maicon Serrão\")"
      ],
      "execution_count": null,
      "outputs": [
        {
          "output_type": "stream",
          "text": [
            "Maicon Serrão\n"
          ],
          "name": "stdout"
        }
      ]
    },
    {
      "cell_type": "code",
      "metadata": {
        "id": "B5uBLINpxmG1",
        "colab_type": "code",
        "colab": {
          "base_uri": "https://localhost:8080/",
          "height": 35
        },
        "outputId": "b5bd34c7-2330-47a2-d563-96e37079ef6c"
      },
      "source": [
        "#nome_da_variavel = \"variável, 12, 12.5\"\n",
        "nome = \"maicon\"\n",
        "idade = 23\n",
        "print(\"meu nome é\",nome, \"e eu tenho\", idade, \"anos\")"
      ],
      "execution_count": null,
      "outputs": [
        {
          "output_type": "stream",
          "text": [
            "meu nome é maicon e eu tenho 23 anos\n"
          ],
          "name": "stdout"
        }
      ]
    },
    {
      "cell_type": "code",
      "metadata": {
        "id": "IxgI8tKdyhjX",
        "colab_type": "code",
        "colab": {
          "base_uri": "https://localhost:8080/",
          "height": 35
        },
        "outputId": "1acd3c67-7a8d-4771-af37-4ff9188a9bba"
      },
      "source": [
        "print(\"meu nome {one} eu tenho {two} anos\".format(one = nome, two = idade))"
      ],
      "execution_count": null,
      "outputs": [
        {
          "output_type": "stream",
          "text": [
            "meu nome maicon eu tenho 23 anos\n"
          ],
          "name": "stdout"
        }
      ]
    },
    {
      "cell_type": "markdown",
      "metadata": {
        "id": "vMXeObddsZEp",
        "colab_type": "text"
      },
      "source": [
        "#Entrada de dados\n",
        "\n",
        "A função input() para receber os dados ou valores que um usuário fornece através do teclado."
      ]
    },
    {
      "cell_type": "code",
      "metadata": {
        "id": "jV2A2r1ozEp7",
        "colab_type": "code",
        "colab": {
          "base_uri": "https://localhost:8080/",
          "height": 53
        },
        "outputId": "18a2b28b-4eca-45c4-ecca-114757f097f8"
      },
      "source": [
        "name = input(\"Entre com seu nome:\")\n",
        "print(\"Seu nome é {one}\".format(one=name))"
      ],
      "execution_count": null,
      "outputs": [
        {
          "output_type": "stream",
          "text": [
            "Entre com seu nome:maicon\n",
            "Seu nome é maicon\n"
          ],
          "name": "stdout"
        }
      ]
    },
    {
      "cell_type": "markdown",
      "metadata": {
        "id": "zV232Hjjj5jG",
        "colab_type": "text"
      },
      "source": [
        "#Operações Aritmética \n",
        "\n",
        "O Python pode ser utilizado como uma calculadora matemática avançada. Praticamente, todos os operadores aritméticos funcionam da mesma forma como os conhecemos da matemática elementar. Observe:\n",
        "\n",
        "* Adição - \"+\"\n",
        "* Subtração - \"-\"\n",
        "* Multiplicação - \"*\"\n",
        "* Divisão - \"/\"\n",
        "* Exponenciação - \"**\"\n",
        "* Parte Inteira da divisão - \"//\"\n",
        "* Modulo ou Resto da divisão - \"%\""
      ]
    },
    {
      "cell_type": "code",
      "metadata": {
        "id": "NGkY_0RmzuCY",
        "colab_type": "code",
        "colab": {
          "base_uri": "https://localhost:8080/",
          "height": 199
        },
        "outputId": "63390720-0c39-4385-e3f6-7bbd6089aa87"
      },
      "source": [
        "valor1 = int(input(\"Entre com o primeiro valor: \"))\n",
        "valor2 = int(input(\"Entre com o segundo valor: \"))\n",
        "#Soma\n",
        "valor3 = valor1 + valor2\n",
        "print(valor3)\n",
        "#Subtração\n",
        "valor3 = valor1 - valor2\n",
        "print(valor3)\n",
        "#Multiplicação\n",
        "valor3 = valor1 * valor2\n",
        "print(valor3)\n",
        "#Divisão \n",
        "valor3 = valor1 / valor2\n",
        "print(valor3)\n",
        "#Exponenciação \n",
        "valor3 = valor1 ** valor2\n",
        "print(valor3)\n",
        "valor3 = pow(valor1, valor2)\n",
        "print(valor3)\n",
        "#Parte inteira da divisão\n",
        "valor3 = valor1 // valor2\n",
        "print(valor3)\n",
        "#Resto da divisão\n",
        "valor3 = valor1% valor2\n",
        "print(valor3)\n"
      ],
      "execution_count": null,
      "outputs": [
        {
          "output_type": "stream",
          "text": [
            "Entre com o primeiro valor: 21\n",
            "Entre com o segundo valor: 5\n",
            "26\n",
            "16\n",
            "105\n",
            "4.2\n",
            "4084101\n",
            "4084101\n",
            "4\n",
            "1\n"
          ],
          "name": "stdout"
        }
      ]
    },
    {
      "cell_type": "markdown",
      "metadata": {
        "id": "fWX2gn6Znd73",
        "colab_type": "text"
      },
      "source": [
        "#Exercícios de Fixação\n"
      ]
    },
    {
      "cell_type": "markdown",
      "metadata": {
        "id": "pJHfRBiupJyA",
        "colab_type": "text"
      },
      "source": [
        "*Quanto é 7 elevado na potência 4?*\n",
        "\n"
      ]
    },
    {
      "cell_type": "code",
      "metadata": {
        "id": "Dr1pMmPo2JD1",
        "colab_type": "code",
        "colab": {
          "base_uri": "https://localhost:8080/",
          "height": 53
        },
        "outputId": "604b263a-73ff-43fc-a70b-fc421c0db392"
      },
      "source": [
        "result = 7 ** 4\n",
        "print(result)\n",
        "result  = pow(7 , 4)\n",
        "print(result)"
      ],
      "execution_count": null,
      "outputs": [
        {
          "output_type": "stream",
          "text": [
            "2401\n",
            "2401\n"
          ],
          "name": "stdout"
        }
      ]
    },
    {
      "cell_type": "markdown",
      "metadata": {
        "id": "ccOZNphJpLKl",
        "colab_type": "text"
      },
      "source": [
        "*Qual é a área do quadrado de lado = 18cm?*"
      ]
    },
    {
      "cell_type": "code",
      "metadata": {
        "id": "cCqPCY0V2Yzx",
        "colab_type": "code",
        "colab": {
          "base_uri": "https://localhost:8080/",
          "height": 35
        },
        "outputId": "1b3776b1-da37-414f-bf52-715f8d302965"
      },
      "source": [
        "#Área do quadrado é igual a L²\n",
        "lado = 18\n",
        "area = pow(lado, 2)\n",
        "print(\"A área do quadrado é :\", area, \"cm²\")"
      ],
      "execution_count": null,
      "outputs": [
        {
          "output_type": "stream",
          "text": [
            "A área do quadrado é : 324 cm²\n"
          ],
          "name": "stdout"
        }
      ]
    },
    {
      "cell_type": "markdown",
      "metadata": {
        "id": "VEClYpwArFYH",
        "colab_type": "text"
      },
      "source": [
        "*Qual é a área da circunferencia de raio = 4?*\n",
        "use Pi = 3.1415\n",
        "\n"
      ]
    },
    {
      "cell_type": "code",
      "metadata": {
        "id": "8W7d7BSv2zO-",
        "colab_type": "code",
        "colab": {
          "base_uri": "https://localhost:8080/",
          "height": 35
        },
        "outputId": "32a99877-1a6f-4af3-a430-7fe28fd85531"
      },
      "source": [
        "#Sabemos que A= pi*r²\n",
        "\n",
        "pi = 3.1415\n",
        "raio = 4\n",
        "area = pi*pow(raio, 2)\n",
        "print(\"A área da circunferencia é igual a \", area)"
      ],
      "execution_count": null,
      "outputs": [
        {
          "output_type": "stream",
          "text": [
            "A área da circunferencia é igual a  50.264\n"
          ],
          "name": "stdout"
        }
      ]
    },
    {
      "cell_type": "markdown",
      "metadata": {
        "id": "X1kFYId1sGVY",
        "colab_type": "text"
      },
      "source": [
        "*Faça uma programa que leia a entrada do nome, idade e numero de celular da pessoa e mostre na tela!*"
      ]
    },
    {
      "cell_type": "code",
      "metadata": {
        "id": "MjzmKxCD3R7F",
        "colab_type": "code",
        "colab": {
          "base_uri": "https://localhost:8080/",
          "height": 90
        },
        "outputId": "4d82aa22-9811-4d77-cb63-914c000646bf"
      },
      "source": [
        "nome = input(\"Entre com o nome: \")\n",
        "idade = int(input(\"Entre com a idade: \"))\n",
        "tel = int(input(\"Entre com o numero do telefone: \"))\n",
        "print(\"Seu nome é {nome}, sua idade é {idade} e seu telefone é {fone}\".format(nome = nome, idade = idade, fone = tel))"
      ],
      "execution_count": null,
      "outputs": [
        {
          "output_type": "stream",
          "text": [
            "Entre com o nome: maicon\n",
            "Entre com a idade: 23\n",
            "Entre com o numero do telefone: 9999999999\n",
            "Seu nome é maicon, sua idade é 23 e seu telefone é 9999999999\n"
          ],
          "name": "stdout"
        }
      ]
    },
    {
      "cell_type": "markdown",
      "metadata": {
        "id": "BYYWHwF1sekx",
        "colab_type": "text"
      },
      "source": [
        "*Faça um programa que peça a entrada de dois numeros e calcule a sua soma, subtração, divisão e multiplicação.*"
      ]
    },
    {
      "cell_type": "markdown",
      "metadata": {
        "id": "hdbgio-xs9Ra",
        "colab_type": "text"
      },
      "source": [
        "**Desafio** : *Faça um Programa para converter graus de Celsius para Fahrenheit*\n",
        "\n",
        "Dica: Sabe-se que para converter Celsius em Fahrenheit basta multiplicar a temperatura em graus Celsius por 1.8 e somar 32 graus"
      ]
    },
    {
      "cell_type": "code",
      "metadata": {
        "id": "1Vxyb-h-34Wp",
        "colab_type": "code",
        "colab": {
          "base_uri": "https://localhost:8080/",
          "height": 53
        },
        "outputId": "325d17f6-81c0-4931-9d41-f9338b8e4e15"
      },
      "source": [
        "celsius = float(input(\"Entre com a temperatura em graus celsius: \"))\n",
        "fahrenheit = celsius * 1.8 + 32 \n",
        "print(\"A temperatura de {temp} graus celsius é igual a {temp2} graus fahrenheit\". format(temp = celsius, temp2 = fahrenheit))"
      ],
      "execution_count": null,
      "outputs": [
        {
          "output_type": "stream",
          "text": [
            "Entre com a temperatura em graus celsius: 32.5\n",
            "A temperatura de 32.5 graus celsius é igual a 90.5 graus fahrenheit\n"
          ],
          "name": "stdout"
        }
      ]
    }
  ]
}