{
 "cells": [
  {
   "cell_type": "markdown",
   "metadata": {},
   "source": [
    "# Vamos Falar Sobre Mínimo Múltiplo Comum\n",
    "\n",
    "O mínimo múltiplo comum (MMC) entre números inteiros é o menor número, também inteiro, que é múltiplo de todos esses números ao mesmo tempo. Por exemplo, o MMC entre 2 e 12 é 12, pois os múltiplos de 2 são 2, 4, 6, 8, 10, 12, ... e os de 12 são: 12, 24, ...\n",
    "\n",
    "O método mais básico que pode ser usado para encontrar o mínimo múltiplo comum entre dois ou mais números é escrever os seus múltiplos até encontrar o primeiro que é comum a todos os números observados, em outras palavras precisamos encontrar a intersecção entre esses numeros.\n",
    "\n",
    "#### Vamos para o Exemplo: \n",
    "Encontre o mmc de 8 e 12?<br><center>\n",
    "M(8) = 8, 16, 24, 32, 40, 48, ...<br>\n",
    "M(12) = 12, 24, 36, 48, ...<br>\n",
    "MMC(8, 12) = M(8) ∩ M(12) = (24, 48, ...)<br></center>\n",
    "\n",
    "O menor número dessa intersecção é 12, portanto, MMC(8, 12) = 24. <br>\n",
    "\n",
    "\n",
    "    fonte: https://brasilescola.uol.com.br/o-que-e/matematica/o-que-e-minimo-multiplo-comum-mmc.htm\n"
   ]
  },
  {
   "cell_type": "markdown",
   "metadata": {},
   "source": [
    "### Vamos verificar um algorítmo para o cálculo do Mínimo Múltiplo Comum\n",
    "\n",
    "Abaixo temos um fluxograma com a estruturação de um algorítmo de resolução do MMC."
   ]
  },
  {
   "cell_type": "markdown",
   "metadata": {},
   "source": [
    "![Algoritmo MMC. Font: Repositório do autor ](algoritmo.png)"
   ]
  },
  {
   "cell_type": "markdown",
   "metadata": {},
   "source": [
    "### Então vamos trabalhar!!!\n",
    "\n",
    "Vamos acompanhar o que está escrito no fluxograma, então primeiramente precisamos definir os dois numeros:"
   ]
  },
  {
   "cell_type": "code",
   "execution_count": 15,
   "metadata": {},
   "outputs": [
    {
     "name": "stdout",
     "output_type": "stream",
     "text": [
      "Vamos Cálcular o Mínimo Múltiplo Comum!!\n",
      "Digite com primeiro número inteiro: 5\n",
      "Digite com o segundo número inteiro: 8\n",
      "O mínimo múltiplo comum entre: ( 5 , 8 ) = 40\n"
     ]
    }
   ],
   "source": [
    "\n",
    "\n",
    "while True:\n",
    "    if maior % num1 == 0 and maior % num2 == 0:\n",
    "        print(\"O mínimo múltiplo comum entre: (\", num1, ',', num2, \") =\", maior)\n",
    "        break\n",
    "    else:\n",
    "        maior += 1"
   ]
  },
  {
   "cell_type": "code",
   "execution_count": null,
   "metadata": {},
   "outputs": [],
   "source": [
    "print(\"Vamos Cálcular o Mínimo Múltiplo Comum!!\")\n",
    "num1 = int(input(\"Digite com primeiro número inteiro: \"))\n",
    "num2 = int(input(\"Digite com o segundo número inteiro: \"))"
   ]
  },
  {
   "cell_type": "markdown",
   "metadata": {},
   "source": [
    "Concluindo a parte de entrada dos valores, precisamos fazer uma pequena verificação, se o primeiro valor é maior que o segundo valor. Concluindo a verificação, preciso atribuir o maior valor a uma nova variavél.<br>\n",
    "Nesse caso, vamos chamar a variável de \"MAIOR\"."
   ]
  },
  {
   "cell_type": "code",
   "execution_count": null,
   "metadata": {},
   "outputs": [],
   "source": [
    "if num1 > num2:\n",
    "    maior = num2\n",
    "else:\n",
    "    maior = num1"
   ]
  },
  {
   "cell_type": "markdown",
   "metadata": {},
   "source": [
    "Agora, iremos realizar um loop, no qual deverá ficar sendo execultado até que a condição seja seja satisfeita. Assim, iremos utilizar o while True... ele vai fazer várias voltas, entrando no if (verificando se a condição foi satisfeita), caso contrário ele entrará no else e será incrementado em uma unidade."
   ]
  },
  {
   "cell_type": "code",
   "execution_count": null,
   "metadata": {},
   "outputs": [],
   "source": [
    "while True:\n",
    "    if maior % num1 == 0 and maior % num2 == 0:\n",
    "        print(\"O mínimo múltiplo comum entre: (\", num1, ',', num2, \") =\", maior)\n",
    "        break\n",
    "    else:\n",
    "        maior += 1"
   ]
  },
  {
   "cell_type": "markdown",
   "metadata": {},
   "source": [
    "Dessa forma concluimos o algorítmo de cálculo do Mínimo Múltiplo Comum. Então vamos verificar como ficou!!"
   ]
  },
  {
   "cell_type": "code",
   "execution_count": 18,
   "metadata": {},
   "outputs": [
    {
     "name": "stdout",
     "output_type": "stream",
     "text": [
      "Vamos Cálcular o Mínimo Múltiplo Comum!!\n",
      "Digite com primeiro número inteiro: 8\n",
      "Digite com o segundo número inteiro: 12\n",
      "O mínimo múltiplo comum entre: ( 8 , 12 ) = 24\n"
     ]
    }
   ],
   "source": [
    "print(\"Vamos Cálcular o Mínimo Múltiplo Comum!!\")\n",
    "num1 = int(input(\"Digite com primeiro número inteiro: \"))\n",
    "num2 = int(input(\"Digite com o segundo número inteiro: \"))\n",
    "\n",
    "if num1 > num2:\n",
    "    maior = num2\n",
    "else:\n",
    "    maior = num1\n",
    "while True:\n",
    "    if maior % num1 == 0 and maior % num2 == 0:\n",
    "        print(\"O mínimo múltiplo comum entre: (\", num1, ',', num2, \") =\", maior)\n",
    "        break\n",
    "    else:\n",
    "        maior += 1"
   ]
  },
  {
   "cell_type": "code",
   "execution_count": null,
   "metadata": {},
   "outputs": [],
   "source": []
  }
 ],
 "metadata": {
  "kernelspec": {
   "display_name": "Python 3",
   "language": "python",
   "name": "python3"
  },
  "language_info": {
   "codemirror_mode": {
    "name": "ipython",
    "version": 3
   },
   "file_extension": ".py",
   "mimetype": "text/x-python",
   "name": "python",
   "nbconvert_exporter": "python",
   "pygments_lexer": "ipython3",
   "version": "3.7.4"
  }
 },
 "nbformat": 4,
 "nbformat_minor": 2
}
