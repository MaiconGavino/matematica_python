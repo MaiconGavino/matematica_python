{
 "cells": [
  {
   "cell_type": "markdown",
   "metadata": {},
   "source": [
    "# Vamos falar sobre Função Quadrática\n",
    "\n",
    "#### Definição:\n",
    "Uma função é dita quadrática ou do 2º grau quando é do tipo:\n",
    "\n",
    "f: R $\\rightarrow$ R\n",
    "\n",
    "f(x) = ax² + bx + c,  ∀ a $\\ne$ 0\n",
    "\n",
    "#### Exemplos de Funções Quadrática:\n",
    "\n",
    "f(x) = 8x² – 4x  + 1, onde a = 8, b = – 4 e c = 1\n",
    "\n",
    "f(x) = x² -11, onde a = 1, b = 0 e c = -11\n",
    "\n",
    "f(x) = – x² + 0,8x, onde a = -1, b = 0,8 e c = 0\n",
    "\n",
    "f(x) = 4x², onde a = 4, b = 0 e c = 0\n",
    "\n",
    "#### Gráfico\n",
    "\n",
    "O gráfico de uma função quadrática é uma curva denominada parábola. Veja a figura abaixo:\n"
   ]
  },
  {
   "cell_type": "markdown",
   "metadata": {},
   "source": [
    "![gráfico da parábola](parabola.png)"
   ]
  },
  {
   "cell_type": "markdown",
   "metadata": {},
   "source": [
    "#### Coeficientes:\n",
    "Quando queremos construir um gráfico de uma função quadrática, uma das primeiras informações que temos que observar é o coeficiente a. Veja:\n",
    "\n",
    "Se o coeficiente a>0, a concavidade da parábola é para cima.\n",
    "Se o coeficiente a<0, a concavidade da parábola é para baixo."
   ]
  },
  {
   "cell_type": "markdown",
   "metadata": {},
   "source": [
    "![coeficente a>0 ](coef-a.png)"
   ]
  },
  {
   "cell_type": "markdown",
   "metadata": {},
   "source": [
    "![coeficente a<0 ](coef-a-1.png)"
   ]
  },
  {
   "cell_type": "markdown",
   "metadata": {},
   "source": [
    "A letra c também nos dá uma informação muito importante. Com ela sabemos onde a parábola corta o eixo y. Veja:"
   ]
  },
  {
   "cell_type": "markdown",
   "metadata": {},
   "source": [
    "![coeficiente c](coef-c.png)"
   ]
  },
  {
   "cell_type": "markdown",
   "metadata": {},
   "source": [
    "#### ZEROS DA FUNÇÃO QUADRÁTICA\n",
    "\n",
    "Para o gráfico ficar completo, existe uma informação muito importante que precisamos descobrir. Os chamados zeros, ou raízes, da função, ou seja, os valores de x que fazem f(x)=0.\n",
    "\n",
    "Esse cálculo será feito em duas etapas:\n",
    "\n",
    "Seja a função f(x) = ax² + bx + c\n",
    "\n",
    "Primeiro devemos calcular o valor de Δ (delta):\n",
    "\n",
    "Δ = b² – 4ac\n",
    "\n",
    "Depois calculamos as raízes através da fórmula:\n",
    "\n",
    "x=  $\\frac{-b\\pm \\sqrt{b^2 - 4ac}}{2a}$"
   ]
  },
  {
   "cell_type": "markdown",
   "metadata": {},
   "source": [
    "### Vamos verificar um algorítmo para o cálculo das Funções Quadráticas \n",
    "\n",
    "Abaixo temos um fluxograma com a estruturação de um algorítmo para encontra os zeros da função quadrática."
   ]
  },
  {
   "cell_type": "markdown",
   "metadata": {},
   "source": [
    "![algorítmo da função quadrática](fluxo.png)"
   ]
  },
  {
   "cell_type": "markdown",
   "metadata": {},
   "source": [
    "### Vamos Trabalhar !!\n",
    "Com base no algorítmo apresentado no fluxograma acima vamos contruir uma aplicação em python 3 para resolver uma função quadratica.\n",
    "\n",
    "Inicialmente iremos precisar importar da biblioteca Math a função SQRT. A função sqrt() (SQuared RooT, Raíz Quadrada) que nos retorna a raíz quadrada de um número."
   ]
  },
  {
   "cell_type": "code",
   "execution_count": 1,
   "metadata": {},
   "outputs": [],
   "source": [
    "from math import sqrt"
   ]
  },
  {
   "cell_type": "markdown",
   "metadata": {},
   "source": [
    "Continuando, vamos criar uma funcao para auxiliar a criação da aplicação. Para facilitar a criação vamos utilizar os seguintes blocos:<br>\n",
    "O trybloco permite testar um bloco de código quanto a erros.<br>\n",
    "O exceptbloco permite que você lide com o erro."
   ]
  },
  {
   "cell_type": "code",
   "execution_count": 7,
   "metadata": {},
   "outputs": [],
   "source": [
    "def funcao(a, b, c):\n",
    "    try:\n",
    "        delta = pow(b,2) - (4 * a * c)\n",
    "        raiz = [(-b + sqrt(delta)) / (2 * a), (-b - sqrt(delta)) / (2 * a )]\n",
    "        return raiz\n",
    "    except ZeroDivisionError:\n",
    "        return 'Sendo \\'a\\' igual a zero, nao ha funcao quadratica, pois temos uma divisao por zero'\n",
    "    except ValueError:\n",
    "        return 'Nao ha raiz quadrada de numeros negativos no conjunto dos Reais'\n"
   ]
  },
  {
   "cell_type": "markdown",
   "metadata": {},
   "source": [
    "Definindo a função, precisamos entrar com os valores de A, B, C. Para concluimos vamos chamar a função definida do bloco acima."
   ]
  },
  {
   "cell_type": "code",
   "execution_count": 11,
   "metadata": {},
   "outputs": [
    {
     "name": "stdout",
     "output_type": "stream",
     "text": [
      "Calcula funcao quadratica\n",
      "------------------------------\n",
      "Entre com o valor de a: 1\n",
      "Entre com o valor de b: 3\n",
      "Entre com o valor de c: 2\n",
      "[-1.0, -2.0]\n"
     ]
    }
   ],
   "source": [
    "print('Calcula funcao quadratica')\n",
    "print ('-' * 30)\n",
    "a = int(input('Entre com o valor de a: '))\n",
    "b = int(input('Entre com o valor de b: '))\n",
    "c = int(input('Entre com o valor de c: '))\n",
    "\n",
    "print (funcao(a, b, c))"
   ]
  },
  {
   "cell_type": "markdown",
   "metadata": {},
   "source": [
    "### Vamos verificar graficamente a função quadrática acima !!\n",
    "Para isso iremos precisar importar a biblioteca SYMPY."
   ]
  },
  {
   "cell_type": "code",
   "execution_count": 20,
   "metadata": {},
   "outputs": [],
   "source": [
    "from sympy import *"
   ]
  },
  {
   "cell_type": "code",
   "execution_count": 21,
   "metadata": {},
   "outputs": [],
   "source": [
    "from sympy.plotting import *"
   ]
  },
  {
   "cell_type": "markdown",
   "metadata": {},
   "source": [
    "Iremos definir o x como um simbolo."
   ]
  },
  {
   "cell_type": "code",
   "execution_count": 22,
   "metadata": {},
   "outputs": [],
   "source": [
    "x=Symbol('x')"
   ]
  },
  {
   "cell_type": "markdown",
   "metadata": {},
   "source": [
    "Iremos usar a função plot para plotar o grafico da função quadrática passando os valores de a, b e c."
   ]
  },
  {
   "cell_type": "code",
   "execution_count": 41,
   "metadata": {},
   "outputs": [
    {
     "data": {
      "image/png": "[encoded data removed]",
      "text/plain": [
       "<Figure size 432x288 with 1 Axes>"
      ]
     },
     "metadata": {
      "needs_background": "light"
     },
     "output_type": "display_data"
    },
    {
     "data": {
      "text/plain": [
       "<sympy.plotting.plot.Plot at 0x7fb5495a9b90>"
      ]
     },
     "execution_count": 41,
     "metadata": {},
     "output_type": "execute_result"
    }
   ],
   "source": [
    "plot(a*x**2+b*x+c, (x,-3,3), title = \"Grafico Função Quadrática\", ylabel=\"y\")"
   ]
  },
  {
   "cell_type": "code",
   "execution_count": null,
   "metadata": {},
   "outputs": [],
   "source": []
  }
 ],
 "metadata": {
  "kernelspec": {
   "display_name": "Python 3",
   "language": "python",
   "name": "python3"
  },
  "language_info": {
   "codemirror_mode": {
    "name": "ipython",
    "version": 3
   },
   "file_extension": ".py",
   "mimetype": "text/x-python",
   "name": "python",
   "nbconvert_exporter": "python",
   "pygments_lexer": "ipython3",
   "version": "3.7.4"
  }
 },
 "nbformat": 4,
 "nbformat_minor": 2
}
